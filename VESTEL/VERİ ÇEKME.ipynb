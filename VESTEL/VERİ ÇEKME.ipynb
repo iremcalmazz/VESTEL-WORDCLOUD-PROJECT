{
 "cells": [
  {
   "cell_type": "code",
   "execution_count": 290,
   "id": "edd7b262",
   "metadata": {},
   "outputs": [],
   "source": [
    "import snscrape.modules.twitter as sntwitter\n",
    "import pandas as pd\n",
    "import os\n",
    "import sqlite3 as sql\n",
    "import numpy as np\n",
    "import seaborn as sns\n",
    "from sqlalchemy import create_engine\n",
    "import matplotlib.pyplot as plt\n",
    "%matplotlib inline"
   ]
  },
  {
   "cell_type": "code",
   "execution_count": 291,
   "id": "59f75ecf",
   "metadata": {},
   "outputs": [],
   "source": [
    "engine = create_engine('sqlite:///Vestel_database.db', echo=True)\n",
    "sqlite_connection = engine.connect()\n"
   ]
  },
  {
   "cell_type": "code",
   "execution_count": 293,
   "id": "84ced001",
   "metadata": {},
   "outputs": [
    {
     "ename": "KeyboardInterrupt",
     "evalue": "",
     "output_type": "error",
     "traceback": [
      "\u001b[1;31m---------------------------------------------------------------------------\u001b[0m",
      "\u001b[1;31mKeyboardInterrupt\u001b[0m                         Traceback (most recent call last)",
      "\u001b[1;32m<ipython-input-293-bdc54238123e>\u001b[0m in \u001b[0;36m<module>\u001b[1;34m\u001b[0m\n\u001b[0;32m      3\u001b[0m \u001b[1;33m\u001b[0m\u001b[0m\n\u001b[0;32m      4\u001b[0m \u001b[1;31m# Using TwitterSearchScraper to scrape data and append tweets to list\u001b[0m\u001b[1;33m\u001b[0m\u001b[1;33m\u001b[0m\u001b[1;33m\u001b[0m\u001b[0m\n\u001b[1;32m----> 5\u001b[1;33m \u001b[1;32mfor\u001b[0m \u001b[0mi\u001b[0m\u001b[1;33m,\u001b[0m\u001b[0mtweet\u001b[0m \u001b[1;32min\u001b[0m \u001b[0menumerate\u001b[0m\u001b[1;33m(\u001b[0m\u001b[0msntwitter\u001b[0m\u001b[1;33m.\u001b[0m\u001b[0mTwitterSearchScraper\u001b[0m\u001b[1;33m(\u001b[0m\u001b[1;34m'Vestel since:2019-06-01 '\u001b[0m\u001b[1;33m)\u001b[0m\u001b[1;33m.\u001b[0m\u001b[0mget_items\u001b[0m\u001b[1;33m(\u001b[0m\u001b[1;33m)\u001b[0m\u001b[1;33m)\u001b[0m\u001b[1;33m:\u001b[0m\u001b[1;33m\u001b[0m\u001b[1;33m\u001b[0m\u001b[0m\n\u001b[0m\u001b[0;32m      6\u001b[0m \u001b[1;33m\u001b[0m\u001b[0m\n\u001b[0;32m      7\u001b[0m     \u001b[0mtweets_list2\u001b[0m\u001b[1;33m.\u001b[0m\u001b[0mappend\u001b[0m\u001b[1;33m(\u001b[0m\u001b[1;33m[\u001b[0m\u001b[0mtweet\u001b[0m\u001b[1;33m.\u001b[0m\u001b[0mdate\u001b[0m\u001b[1;33m,\u001b[0m \u001b[0mtweet\u001b[0m\u001b[1;33m.\u001b[0m\u001b[0mid\u001b[0m\u001b[1;33m,\u001b[0m \u001b[0mtweet\u001b[0m\u001b[1;33m.\u001b[0m\u001b[0mcontent\u001b[0m\u001b[1;33m,\u001b[0m \u001b[0mtweet\u001b[0m\u001b[1;33m.\u001b[0m\u001b[0muser\u001b[0m\u001b[1;33m.\u001b[0m\u001b[0musername\u001b[0m\u001b[1;33m,\u001b[0m\u001b[0mtweet\u001b[0m\u001b[1;33m.\u001b[0m\u001b[0mlikeCount\u001b[0m\u001b[1;33m,\u001b[0m\u001b[0mtweet\u001b[0m\u001b[1;33m.\u001b[0m\u001b[0mretweetCount\u001b[0m\u001b[1;33m]\u001b[0m\u001b[1;33m)\u001b[0m\u001b[1;33m\u001b[0m\u001b[1;33m\u001b[0m\u001b[0m\n",
      "\u001b[1;32m~\\anaconda3\\lib\\site-packages\\snscrape\\modules\\twitter.py\u001b[0m in \u001b[0;36mget_items\u001b[1;34m(self)\u001b[0m\n\u001b[0;32m    519\u001b[0m                         \u001b[1;32mdel\u001b[0m \u001b[0mpaginationParams\u001b[0m\u001b[1;33m[\u001b[0m\u001b[1;34m'tweet_search_mode'\u001b[0m\u001b[1;33m]\u001b[0m\u001b[1;33m\u001b[0m\u001b[1;33m\u001b[0m\u001b[0m\n\u001b[0;32m    520\u001b[0m \u001b[1;33m\u001b[0m\u001b[0m\n\u001b[1;32m--> 521\u001b[1;33m                 \u001b[1;32mfor\u001b[0m \u001b[0mobj\u001b[0m \u001b[1;32min\u001b[0m \u001b[0mself\u001b[0m\u001b[1;33m.\u001b[0m\u001b[0m_iter_api_data\u001b[0m\u001b[1;33m(\u001b[0m\u001b[1;34m'https://api.twitter.com/2/search/adaptive.json'\u001b[0m\u001b[1;33m,\u001b[0m \u001b[0mparams\u001b[0m\u001b[1;33m,\u001b[0m \u001b[0mpaginationParams\u001b[0m\u001b[1;33m,\u001b[0m \u001b[0mcursor\u001b[0m \u001b[1;33m=\u001b[0m \u001b[0mself\u001b[0m\u001b[1;33m.\u001b[0m\u001b[0m_cursor\u001b[0m\u001b[1;33m)\u001b[0m\u001b[1;33m:\u001b[0m\u001b[1;33m\u001b[0m\u001b[1;33m\u001b[0m\u001b[0m\n\u001b[0m\u001b[0;32m    522\u001b[0m                         \u001b[1;32myield\u001b[0m \u001b[1;32mfrom\u001b[0m \u001b[0mself\u001b[0m\u001b[1;33m.\u001b[0m\u001b[0m_instructions_to_tweets\u001b[0m\u001b[1;33m(\u001b[0m\u001b[0mobj\u001b[0m\u001b[1;33m)\u001b[0m\u001b[1;33m\u001b[0m\u001b[1;33m\u001b[0m\u001b[0m\n\u001b[0;32m    523\u001b[0m \u001b[1;33m\u001b[0m\u001b[0m\n",
      "\u001b[1;32m~\\anaconda3\\lib\\site-packages\\snscrape\\modules\\twitter.py\u001b[0m in \u001b[0;36m_iter_api_data\u001b[1;34m(self, endpoint, params, paginationParams, cursor, direction)\u001b[0m\n\u001b[0;32m    230\u001b[0m                 \u001b[1;32mwhile\u001b[0m \u001b[1;32mTrue\u001b[0m\u001b[1;33m:\u001b[0m\u001b[1;33m\u001b[0m\u001b[1;33m\u001b[0m\u001b[0m\n\u001b[0;32m    231\u001b[0m                         \u001b[0mlogger\u001b[0m\u001b[1;33m.\u001b[0m\u001b[0minfo\u001b[0m\u001b[1;33m(\u001b[0m\u001b[1;34mf'Retrieving scroll page {cursor}'\u001b[0m\u001b[1;33m)\u001b[0m\u001b[1;33m\u001b[0m\u001b[1;33m\u001b[0m\u001b[0m\n\u001b[1;32m--> 232\u001b[1;33m                         \u001b[0mobj\u001b[0m \u001b[1;33m=\u001b[0m \u001b[0mself\u001b[0m\u001b[1;33m.\u001b[0m\u001b[0m_get_api_data\u001b[0m\u001b[1;33m(\u001b[0m\u001b[0mendpoint\u001b[0m\u001b[1;33m,\u001b[0m \u001b[0mreqParams\u001b[0m\u001b[1;33m)\u001b[0m\u001b[1;33m\u001b[0m\u001b[1;33m\u001b[0m\u001b[0m\n\u001b[0m\u001b[0;32m    233\u001b[0m                         \u001b[1;32myield\u001b[0m \u001b[0mobj\u001b[0m\u001b[1;33m\u001b[0m\u001b[1;33m\u001b[0m\u001b[0m\n\u001b[0;32m    234\u001b[0m \u001b[1;33m\u001b[0m\u001b[0m\n",
      "\u001b[1;32m~\\anaconda3\\lib\\site-packages\\snscrape\\modules\\twitter.py\u001b[0m in \u001b[0;36m_get_api_data\u001b[1;34m(self, endpoint, params)\u001b[0m\n\u001b[0;32m    200\u001b[0m         \u001b[1;32mdef\u001b[0m \u001b[0m_get_api_data\u001b[0m\u001b[1;33m(\u001b[0m\u001b[0mself\u001b[0m\u001b[1;33m,\u001b[0m \u001b[0mendpoint\u001b[0m\u001b[1;33m,\u001b[0m \u001b[0mparams\u001b[0m\u001b[1;33m)\u001b[0m\u001b[1;33m:\u001b[0m\u001b[1;33m\u001b[0m\u001b[1;33m\u001b[0m\u001b[0m\n\u001b[0;32m    201\u001b[0m                 \u001b[0mself\u001b[0m\u001b[1;33m.\u001b[0m\u001b[0m_ensure_guest_token\u001b[0m\u001b[1;33m(\u001b[0m\u001b[1;33m)\u001b[0m\u001b[1;33m\u001b[0m\u001b[1;33m\u001b[0m\u001b[0m\n\u001b[1;32m--> 202\u001b[1;33m                 \u001b[0mr\u001b[0m \u001b[1;33m=\u001b[0m \u001b[0mself\u001b[0m\u001b[1;33m.\u001b[0m\u001b[0m_get\u001b[0m\u001b[1;33m(\u001b[0m\u001b[0mendpoint\u001b[0m\u001b[1;33m,\u001b[0m \u001b[0mparams\u001b[0m \u001b[1;33m=\u001b[0m \u001b[0mparams\u001b[0m\u001b[1;33m,\u001b[0m \u001b[0mheaders\u001b[0m \u001b[1;33m=\u001b[0m \u001b[0mself\u001b[0m\u001b[1;33m.\u001b[0m\u001b[0m_apiHeaders\u001b[0m\u001b[1;33m,\u001b[0m \u001b[0mresponseOkCallback\u001b[0m \u001b[1;33m=\u001b[0m \u001b[0mself\u001b[0m\u001b[1;33m.\u001b[0m\u001b[0m_check_api_response\u001b[0m\u001b[1;33m)\u001b[0m\u001b[1;33m\u001b[0m\u001b[1;33m\u001b[0m\u001b[0m\n\u001b[0m\u001b[0;32m    203\u001b[0m                 \u001b[1;32mtry\u001b[0m\u001b[1;33m:\u001b[0m\u001b[1;33m\u001b[0m\u001b[1;33m\u001b[0m\u001b[0m\n\u001b[0;32m    204\u001b[0m                         \u001b[0mobj\u001b[0m \u001b[1;33m=\u001b[0m \u001b[0mr\u001b[0m\u001b[1;33m.\u001b[0m\u001b[0mjson\u001b[0m\u001b[1;33m(\u001b[0m\u001b[1;33m)\u001b[0m\u001b[1;33m\u001b[0m\u001b[1;33m\u001b[0m\u001b[0m\n",
      "\u001b[1;32m~\\anaconda3\\lib\\site-packages\\snscrape\\base.py\u001b[0m in \u001b[0;36m_get\u001b[1;34m(self, *args, **kwargs)\u001b[0m\n\u001b[0;32m    197\u001b[0m \u001b[1;33m\u001b[0m\u001b[0m\n\u001b[0;32m    198\u001b[0m         \u001b[1;32mdef\u001b[0m \u001b[0m_get\u001b[0m\u001b[1;33m(\u001b[0m\u001b[0mself\u001b[0m\u001b[1;33m,\u001b[0m \u001b[1;33m*\u001b[0m\u001b[0margs\u001b[0m\u001b[1;33m,\u001b[0m \u001b[1;33m**\u001b[0m\u001b[0mkwargs\u001b[0m\u001b[1;33m)\u001b[0m\u001b[1;33m:\u001b[0m\u001b[1;33m\u001b[0m\u001b[1;33m\u001b[0m\u001b[0m\n\u001b[1;32m--> 199\u001b[1;33m                 \u001b[1;32mreturn\u001b[0m \u001b[0mself\u001b[0m\u001b[1;33m.\u001b[0m\u001b[0m_request\u001b[0m\u001b[1;33m(\u001b[0m\u001b[1;34m'GET'\u001b[0m\u001b[1;33m,\u001b[0m \u001b[1;33m*\u001b[0m\u001b[0margs\u001b[0m\u001b[1;33m,\u001b[0m \u001b[1;33m**\u001b[0m\u001b[0mkwargs\u001b[0m\u001b[1;33m)\u001b[0m\u001b[1;33m\u001b[0m\u001b[1;33m\u001b[0m\u001b[0m\n\u001b[0m\u001b[0;32m    200\u001b[0m \u001b[1;33m\u001b[0m\u001b[0m\n\u001b[0;32m    201\u001b[0m         \u001b[1;32mdef\u001b[0m \u001b[0m_post\u001b[0m\u001b[1;33m(\u001b[0m\u001b[0mself\u001b[0m\u001b[1;33m,\u001b[0m \u001b[1;33m*\u001b[0m\u001b[0margs\u001b[0m\u001b[1;33m,\u001b[0m \u001b[1;33m**\u001b[0m\u001b[0mkwargs\u001b[0m\u001b[1;33m)\u001b[0m\u001b[1;33m:\u001b[0m\u001b[1;33m\u001b[0m\u001b[1;33m\u001b[0m\u001b[0m\n",
      "\u001b[1;32m~\\anaconda3\\lib\\site-packages\\snscrape\\base.py\u001b[0m in \u001b[0;36m_request\u001b[1;34m(self, method, url, params, data, headers, timeout, responseOkCallback, allowRedirects)\u001b[0m\n\u001b[0;32m    159\u001b[0m                                 \u001b[0mlogger\u001b[0m\u001b[1;33m.\u001b[0m\u001b[0mdebug\u001b[0m\u001b[1;33m(\u001b[0m\u001b[1;34mf'... with data: {data!r}'\u001b[0m\u001b[1;33m)\u001b[0m\u001b[1;33m\u001b[0m\u001b[1;33m\u001b[0m\u001b[0m\n\u001b[0;32m    160\u001b[0m                         \u001b[1;32mtry\u001b[0m\u001b[1;33m:\u001b[0m\u001b[1;33m\u001b[0m\u001b[1;33m\u001b[0m\u001b[0m\n\u001b[1;32m--> 161\u001b[1;33m                                 \u001b[0mr\u001b[0m \u001b[1;33m=\u001b[0m \u001b[0mself\u001b[0m\u001b[1;33m.\u001b[0m\u001b[0m_session\u001b[0m\u001b[1;33m.\u001b[0m\u001b[0msend\u001b[0m\u001b[1;33m(\u001b[0m\u001b[0mreq\u001b[0m\u001b[1;33m,\u001b[0m \u001b[0mallow_redirects\u001b[0m \u001b[1;33m=\u001b[0m \u001b[0mallowRedirects\u001b[0m\u001b[1;33m,\u001b[0m \u001b[0mtimeout\u001b[0m \u001b[1;33m=\u001b[0m \u001b[0mtimeout\u001b[0m\u001b[1;33m)\u001b[0m\u001b[1;33m\u001b[0m\u001b[1;33m\u001b[0m\u001b[0m\n\u001b[0m\u001b[0;32m    162\u001b[0m                         \u001b[1;32mexcept\u001b[0m \u001b[0mrequests\u001b[0m\u001b[1;33m.\u001b[0m\u001b[0mexceptions\u001b[0m\u001b[1;33m.\u001b[0m\u001b[0mRequestException\u001b[0m \u001b[1;32mas\u001b[0m \u001b[0mexc\u001b[0m\u001b[1;33m:\u001b[0m\u001b[1;33m\u001b[0m\u001b[1;33m\u001b[0m\u001b[0m\n\u001b[0;32m    163\u001b[0m                                 \u001b[1;32mif\u001b[0m \u001b[0mattempt\u001b[0m \u001b[1;33m<\u001b[0m \u001b[0mself\u001b[0m\u001b[1;33m.\u001b[0m\u001b[0m_retries\u001b[0m\u001b[1;33m:\u001b[0m\u001b[1;33m\u001b[0m\u001b[1;33m\u001b[0m\u001b[0m\n",
      "\u001b[1;32m~\\anaconda3\\lib\\site-packages\\requests\\sessions.py\u001b[0m in \u001b[0;36msend\u001b[1;34m(self, request, **kwargs)\u001b[0m\n\u001b[0;32m    653\u001b[0m \u001b[1;33m\u001b[0m\u001b[0m\n\u001b[0;32m    654\u001b[0m         \u001b[1;31m# Send the request\u001b[0m\u001b[1;33m\u001b[0m\u001b[1;33m\u001b[0m\u001b[1;33m\u001b[0m\u001b[0m\n\u001b[1;32m--> 655\u001b[1;33m         \u001b[0mr\u001b[0m \u001b[1;33m=\u001b[0m \u001b[0madapter\u001b[0m\u001b[1;33m.\u001b[0m\u001b[0msend\u001b[0m\u001b[1;33m(\u001b[0m\u001b[0mrequest\u001b[0m\u001b[1;33m,\u001b[0m \u001b[1;33m**\u001b[0m\u001b[0mkwargs\u001b[0m\u001b[1;33m)\u001b[0m\u001b[1;33m\u001b[0m\u001b[1;33m\u001b[0m\u001b[0m\n\u001b[0m\u001b[0;32m    656\u001b[0m \u001b[1;33m\u001b[0m\u001b[0m\n\u001b[0;32m    657\u001b[0m         \u001b[1;31m# Total elapsed time of the request (approximately)\u001b[0m\u001b[1;33m\u001b[0m\u001b[1;33m\u001b[0m\u001b[1;33m\u001b[0m\u001b[0m\n",
      "\u001b[1;32m~\\anaconda3\\lib\\site-packages\\requests\\adapters.py\u001b[0m in \u001b[0;36msend\u001b[1;34m(self, request, stream, timeout, verify, cert, proxies)\u001b[0m\n\u001b[0;32m    437\u001b[0m         \u001b[1;32mtry\u001b[0m\u001b[1;33m:\u001b[0m\u001b[1;33m\u001b[0m\u001b[1;33m\u001b[0m\u001b[0m\n\u001b[0;32m    438\u001b[0m             \u001b[1;32mif\u001b[0m \u001b[1;32mnot\u001b[0m \u001b[0mchunked\u001b[0m\u001b[1;33m:\u001b[0m\u001b[1;33m\u001b[0m\u001b[1;33m\u001b[0m\u001b[0m\n\u001b[1;32m--> 439\u001b[1;33m                 resp = conn.urlopen(\n\u001b[0m\u001b[0;32m    440\u001b[0m                     \u001b[0mmethod\u001b[0m\u001b[1;33m=\u001b[0m\u001b[0mrequest\u001b[0m\u001b[1;33m.\u001b[0m\u001b[0mmethod\u001b[0m\u001b[1;33m,\u001b[0m\u001b[1;33m\u001b[0m\u001b[1;33m\u001b[0m\u001b[0m\n\u001b[0;32m    441\u001b[0m                     \u001b[0murl\u001b[0m\u001b[1;33m=\u001b[0m\u001b[0murl\u001b[0m\u001b[1;33m,\u001b[0m\u001b[1;33m\u001b[0m\u001b[1;33m\u001b[0m\u001b[0m\n",
      "\u001b[1;32m~\\anaconda3\\lib\\site-packages\\urllib3\\connectionpool.py\u001b[0m in \u001b[0;36murlopen\u001b[1;34m(self, method, url, body, headers, retries, redirect, assert_same_host, timeout, pool_timeout, release_conn, chunked, body_pos, **response_kw)\u001b[0m\n\u001b[0;32m    697\u001b[0m \u001b[1;33m\u001b[0m\u001b[0m\n\u001b[0;32m    698\u001b[0m             \u001b[1;31m# Make the request on the httplib connection object.\u001b[0m\u001b[1;33m\u001b[0m\u001b[1;33m\u001b[0m\u001b[1;33m\u001b[0m\u001b[0m\n\u001b[1;32m--> 699\u001b[1;33m             httplib_response = self._make_request(\n\u001b[0m\u001b[0;32m    700\u001b[0m                 \u001b[0mconn\u001b[0m\u001b[1;33m,\u001b[0m\u001b[1;33m\u001b[0m\u001b[1;33m\u001b[0m\u001b[0m\n\u001b[0;32m    701\u001b[0m                 \u001b[0mmethod\u001b[0m\u001b[1;33m,\u001b[0m\u001b[1;33m\u001b[0m\u001b[1;33m\u001b[0m\u001b[0m\n",
      "\u001b[1;32m~\\anaconda3\\lib\\site-packages\\urllib3\\connectionpool.py\u001b[0m in \u001b[0;36m_make_request\u001b[1;34m(self, conn, method, url, timeout, chunked, **httplib_request_kw)\u001b[0m\n\u001b[0;32m    443\u001b[0m                     \u001b[1;31m# Python 3 (including for exceptions like SystemExit).\u001b[0m\u001b[1;33m\u001b[0m\u001b[1;33m\u001b[0m\u001b[1;33m\u001b[0m\u001b[0m\n\u001b[0;32m    444\u001b[0m                     \u001b[1;31m# Otherwise it looks like a bug in the code.\u001b[0m\u001b[1;33m\u001b[0m\u001b[1;33m\u001b[0m\u001b[1;33m\u001b[0m\u001b[0m\n\u001b[1;32m--> 445\u001b[1;33m                     \u001b[0msix\u001b[0m\u001b[1;33m.\u001b[0m\u001b[0mraise_from\u001b[0m\u001b[1;33m(\u001b[0m\u001b[0me\u001b[0m\u001b[1;33m,\u001b[0m \u001b[1;32mNone\u001b[0m\u001b[1;33m)\u001b[0m\u001b[1;33m\u001b[0m\u001b[1;33m\u001b[0m\u001b[0m\n\u001b[0m\u001b[0;32m    446\u001b[0m         \u001b[1;32mexcept\u001b[0m \u001b[1;33m(\u001b[0m\u001b[0mSocketTimeout\u001b[0m\u001b[1;33m,\u001b[0m \u001b[0mBaseSSLError\u001b[0m\u001b[1;33m,\u001b[0m \u001b[0mSocketError\u001b[0m\u001b[1;33m)\u001b[0m \u001b[1;32mas\u001b[0m \u001b[0me\u001b[0m\u001b[1;33m:\u001b[0m\u001b[1;33m\u001b[0m\u001b[1;33m\u001b[0m\u001b[0m\n\u001b[0;32m    447\u001b[0m             \u001b[0mself\u001b[0m\u001b[1;33m.\u001b[0m\u001b[0m_raise_timeout\u001b[0m\u001b[1;33m(\u001b[0m\u001b[0merr\u001b[0m\u001b[1;33m=\u001b[0m\u001b[0me\u001b[0m\u001b[1;33m,\u001b[0m \u001b[0murl\u001b[0m\u001b[1;33m=\u001b[0m\u001b[0murl\u001b[0m\u001b[1;33m,\u001b[0m \u001b[0mtimeout_value\u001b[0m\u001b[1;33m=\u001b[0m\u001b[0mread_timeout\u001b[0m\u001b[1;33m)\u001b[0m\u001b[1;33m\u001b[0m\u001b[1;33m\u001b[0m\u001b[0m\n",
      "\u001b[1;32m~\\anaconda3\\lib\\site-packages\\urllib3\\packages\\six.py\u001b[0m in \u001b[0;36mraise_from\u001b[1;34m(value, from_value)\u001b[0m\n",
      "\u001b[1;32m~\\anaconda3\\lib\\site-packages\\urllib3\\connectionpool.py\u001b[0m in \u001b[0;36m_make_request\u001b[1;34m(self, conn, method, url, timeout, chunked, **httplib_request_kw)\u001b[0m\n\u001b[0;32m    438\u001b[0m                 \u001b[1;31m# Python 3\u001b[0m\u001b[1;33m\u001b[0m\u001b[1;33m\u001b[0m\u001b[1;33m\u001b[0m\u001b[0m\n\u001b[0;32m    439\u001b[0m                 \u001b[1;32mtry\u001b[0m\u001b[1;33m:\u001b[0m\u001b[1;33m\u001b[0m\u001b[1;33m\u001b[0m\u001b[0m\n\u001b[1;32m--> 440\u001b[1;33m                     \u001b[0mhttplib_response\u001b[0m \u001b[1;33m=\u001b[0m \u001b[0mconn\u001b[0m\u001b[1;33m.\u001b[0m\u001b[0mgetresponse\u001b[0m\u001b[1;33m(\u001b[0m\u001b[1;33m)\u001b[0m\u001b[1;33m\u001b[0m\u001b[1;33m\u001b[0m\u001b[0m\n\u001b[0m\u001b[0;32m    441\u001b[0m                 \u001b[1;32mexcept\u001b[0m \u001b[0mBaseException\u001b[0m \u001b[1;32mas\u001b[0m \u001b[0me\u001b[0m\u001b[1;33m:\u001b[0m\u001b[1;33m\u001b[0m\u001b[1;33m\u001b[0m\u001b[0m\n\u001b[0;32m    442\u001b[0m                     \u001b[1;31m# Remove the TypeError from the exception chain in\u001b[0m\u001b[1;33m\u001b[0m\u001b[1;33m\u001b[0m\u001b[1;33m\u001b[0m\u001b[0m\n",
      "\u001b[1;32m~\\anaconda3\\lib\\http\\client.py\u001b[0m in \u001b[0;36mgetresponse\u001b[1;34m(self)\u001b[0m\n\u001b[0;32m   1345\u001b[0m         \u001b[1;32mtry\u001b[0m\u001b[1;33m:\u001b[0m\u001b[1;33m\u001b[0m\u001b[1;33m\u001b[0m\u001b[0m\n\u001b[0;32m   1346\u001b[0m             \u001b[1;32mtry\u001b[0m\u001b[1;33m:\u001b[0m\u001b[1;33m\u001b[0m\u001b[1;33m\u001b[0m\u001b[0m\n\u001b[1;32m-> 1347\u001b[1;33m                 \u001b[0mresponse\u001b[0m\u001b[1;33m.\u001b[0m\u001b[0mbegin\u001b[0m\u001b[1;33m(\u001b[0m\u001b[1;33m)\u001b[0m\u001b[1;33m\u001b[0m\u001b[1;33m\u001b[0m\u001b[0m\n\u001b[0m\u001b[0;32m   1348\u001b[0m             \u001b[1;32mexcept\u001b[0m \u001b[0mConnectionError\u001b[0m\u001b[1;33m:\u001b[0m\u001b[1;33m\u001b[0m\u001b[1;33m\u001b[0m\u001b[0m\n\u001b[0;32m   1349\u001b[0m                 \u001b[0mself\u001b[0m\u001b[1;33m.\u001b[0m\u001b[0mclose\u001b[0m\u001b[1;33m(\u001b[0m\u001b[1;33m)\u001b[0m\u001b[1;33m\u001b[0m\u001b[1;33m\u001b[0m\u001b[0m\n",
      "\u001b[1;32m~\\anaconda3\\lib\\http\\client.py\u001b[0m in \u001b[0;36mbegin\u001b[1;34m(self)\u001b[0m\n\u001b[0;32m    305\u001b[0m         \u001b[1;31m# read until we get a non-100 response\u001b[0m\u001b[1;33m\u001b[0m\u001b[1;33m\u001b[0m\u001b[1;33m\u001b[0m\u001b[0m\n\u001b[0;32m    306\u001b[0m         \u001b[1;32mwhile\u001b[0m \u001b[1;32mTrue\u001b[0m\u001b[1;33m:\u001b[0m\u001b[1;33m\u001b[0m\u001b[1;33m\u001b[0m\u001b[0m\n\u001b[1;32m--> 307\u001b[1;33m             \u001b[0mversion\u001b[0m\u001b[1;33m,\u001b[0m \u001b[0mstatus\u001b[0m\u001b[1;33m,\u001b[0m \u001b[0mreason\u001b[0m \u001b[1;33m=\u001b[0m \u001b[0mself\u001b[0m\u001b[1;33m.\u001b[0m\u001b[0m_read_status\u001b[0m\u001b[1;33m(\u001b[0m\u001b[1;33m)\u001b[0m\u001b[1;33m\u001b[0m\u001b[1;33m\u001b[0m\u001b[0m\n\u001b[0m\u001b[0;32m    308\u001b[0m             \u001b[1;32mif\u001b[0m \u001b[0mstatus\u001b[0m \u001b[1;33m!=\u001b[0m \u001b[0mCONTINUE\u001b[0m\u001b[1;33m:\u001b[0m\u001b[1;33m\u001b[0m\u001b[1;33m\u001b[0m\u001b[0m\n\u001b[0;32m    309\u001b[0m                 \u001b[1;32mbreak\u001b[0m\u001b[1;33m\u001b[0m\u001b[1;33m\u001b[0m\u001b[0m\n",
      "\u001b[1;32m~\\anaconda3\\lib\\http\\client.py\u001b[0m in \u001b[0;36m_read_status\u001b[1;34m(self)\u001b[0m\n\u001b[0;32m    266\u001b[0m \u001b[1;33m\u001b[0m\u001b[0m\n\u001b[0;32m    267\u001b[0m     \u001b[1;32mdef\u001b[0m \u001b[0m_read_status\u001b[0m\u001b[1;33m(\u001b[0m\u001b[0mself\u001b[0m\u001b[1;33m)\u001b[0m\u001b[1;33m:\u001b[0m\u001b[1;33m\u001b[0m\u001b[1;33m\u001b[0m\u001b[0m\n\u001b[1;32m--> 268\u001b[1;33m         \u001b[0mline\u001b[0m \u001b[1;33m=\u001b[0m \u001b[0mstr\u001b[0m\u001b[1;33m(\u001b[0m\u001b[0mself\u001b[0m\u001b[1;33m.\u001b[0m\u001b[0mfp\u001b[0m\u001b[1;33m.\u001b[0m\u001b[0mreadline\u001b[0m\u001b[1;33m(\u001b[0m\u001b[0m_MAXLINE\u001b[0m \u001b[1;33m+\u001b[0m \u001b[1;36m1\u001b[0m\u001b[1;33m)\u001b[0m\u001b[1;33m,\u001b[0m \u001b[1;34m\"iso-8859-1\"\u001b[0m\u001b[1;33m)\u001b[0m\u001b[1;33m\u001b[0m\u001b[1;33m\u001b[0m\u001b[0m\n\u001b[0m\u001b[0;32m    269\u001b[0m         \u001b[1;32mif\u001b[0m \u001b[0mlen\u001b[0m\u001b[1;33m(\u001b[0m\u001b[0mline\u001b[0m\u001b[1;33m)\u001b[0m \u001b[1;33m>\u001b[0m \u001b[0m_MAXLINE\u001b[0m\u001b[1;33m:\u001b[0m\u001b[1;33m\u001b[0m\u001b[1;33m\u001b[0m\u001b[0m\n\u001b[0;32m    270\u001b[0m             \u001b[1;32mraise\u001b[0m \u001b[0mLineTooLong\u001b[0m\u001b[1;33m(\u001b[0m\u001b[1;34m\"status line\"\u001b[0m\u001b[1;33m)\u001b[0m\u001b[1;33m\u001b[0m\u001b[1;33m\u001b[0m\u001b[0m\n",
      "\u001b[1;32m~\\anaconda3\\lib\\socket.py\u001b[0m in \u001b[0;36mreadinto\u001b[1;34m(self, b)\u001b[0m\n\u001b[0;32m    667\u001b[0m         \u001b[1;32mwhile\u001b[0m \u001b[1;32mTrue\u001b[0m\u001b[1;33m:\u001b[0m\u001b[1;33m\u001b[0m\u001b[1;33m\u001b[0m\u001b[0m\n\u001b[0;32m    668\u001b[0m             \u001b[1;32mtry\u001b[0m\u001b[1;33m:\u001b[0m\u001b[1;33m\u001b[0m\u001b[1;33m\u001b[0m\u001b[0m\n\u001b[1;32m--> 669\u001b[1;33m                 \u001b[1;32mreturn\u001b[0m \u001b[0mself\u001b[0m\u001b[1;33m.\u001b[0m\u001b[0m_sock\u001b[0m\u001b[1;33m.\u001b[0m\u001b[0mrecv_into\u001b[0m\u001b[1;33m(\u001b[0m\u001b[0mb\u001b[0m\u001b[1;33m)\u001b[0m\u001b[1;33m\u001b[0m\u001b[1;33m\u001b[0m\u001b[0m\n\u001b[0m\u001b[0;32m    670\u001b[0m             \u001b[1;32mexcept\u001b[0m \u001b[0mtimeout\u001b[0m\u001b[1;33m:\u001b[0m\u001b[1;33m\u001b[0m\u001b[1;33m\u001b[0m\u001b[0m\n\u001b[0;32m    671\u001b[0m                 \u001b[0mself\u001b[0m\u001b[1;33m.\u001b[0m\u001b[0m_timeout_occurred\u001b[0m \u001b[1;33m=\u001b[0m \u001b[1;32mTrue\u001b[0m\u001b[1;33m\u001b[0m\u001b[1;33m\u001b[0m\u001b[0m\n",
      "\u001b[1;32m~\\anaconda3\\lib\\ssl.py\u001b[0m in \u001b[0;36mrecv_into\u001b[1;34m(self, buffer, nbytes, flags)\u001b[0m\n\u001b[0;32m   1239\u001b[0m                   \u001b[1;34m\"non-zero flags not allowed in calls to recv_into() on %s\"\u001b[0m \u001b[1;33m%\u001b[0m\u001b[1;33m\u001b[0m\u001b[1;33m\u001b[0m\u001b[0m\n\u001b[0;32m   1240\u001b[0m                   self.__class__)\n\u001b[1;32m-> 1241\u001b[1;33m             \u001b[1;32mreturn\u001b[0m \u001b[0mself\u001b[0m\u001b[1;33m.\u001b[0m\u001b[0mread\u001b[0m\u001b[1;33m(\u001b[0m\u001b[0mnbytes\u001b[0m\u001b[1;33m,\u001b[0m \u001b[0mbuffer\u001b[0m\u001b[1;33m)\u001b[0m\u001b[1;33m\u001b[0m\u001b[1;33m\u001b[0m\u001b[0m\n\u001b[0m\u001b[0;32m   1242\u001b[0m         \u001b[1;32melse\u001b[0m\u001b[1;33m:\u001b[0m\u001b[1;33m\u001b[0m\u001b[1;33m\u001b[0m\u001b[0m\n\u001b[0;32m   1243\u001b[0m             \u001b[1;32mreturn\u001b[0m \u001b[0msuper\u001b[0m\u001b[1;33m(\u001b[0m\u001b[1;33m)\u001b[0m\u001b[1;33m.\u001b[0m\u001b[0mrecv_into\u001b[0m\u001b[1;33m(\u001b[0m\u001b[0mbuffer\u001b[0m\u001b[1;33m,\u001b[0m \u001b[0mnbytes\u001b[0m\u001b[1;33m,\u001b[0m \u001b[0mflags\u001b[0m\u001b[1;33m)\u001b[0m\u001b[1;33m\u001b[0m\u001b[1;33m\u001b[0m\u001b[0m\n",
      "\u001b[1;32m~\\anaconda3\\lib\\ssl.py\u001b[0m in \u001b[0;36mread\u001b[1;34m(self, len, buffer)\u001b[0m\n\u001b[0;32m   1097\u001b[0m         \u001b[1;32mtry\u001b[0m\u001b[1;33m:\u001b[0m\u001b[1;33m\u001b[0m\u001b[1;33m\u001b[0m\u001b[0m\n\u001b[0;32m   1098\u001b[0m             \u001b[1;32mif\u001b[0m \u001b[0mbuffer\u001b[0m \u001b[1;32mis\u001b[0m \u001b[1;32mnot\u001b[0m \u001b[1;32mNone\u001b[0m\u001b[1;33m:\u001b[0m\u001b[1;33m\u001b[0m\u001b[1;33m\u001b[0m\u001b[0m\n\u001b[1;32m-> 1099\u001b[1;33m                 \u001b[1;32mreturn\u001b[0m \u001b[0mself\u001b[0m\u001b[1;33m.\u001b[0m\u001b[0m_sslobj\u001b[0m\u001b[1;33m.\u001b[0m\u001b[0mread\u001b[0m\u001b[1;33m(\u001b[0m\u001b[0mlen\u001b[0m\u001b[1;33m,\u001b[0m \u001b[0mbuffer\u001b[0m\u001b[1;33m)\u001b[0m\u001b[1;33m\u001b[0m\u001b[1;33m\u001b[0m\u001b[0m\n\u001b[0m\u001b[0;32m   1100\u001b[0m             \u001b[1;32melse\u001b[0m\u001b[1;33m:\u001b[0m\u001b[1;33m\u001b[0m\u001b[1;33m\u001b[0m\u001b[0m\n\u001b[0;32m   1101\u001b[0m                 \u001b[1;32mreturn\u001b[0m \u001b[0mself\u001b[0m\u001b[1;33m.\u001b[0m\u001b[0m_sslobj\u001b[0m\u001b[1;33m.\u001b[0m\u001b[0mread\u001b[0m\u001b[1;33m(\u001b[0m\u001b[0mlen\u001b[0m\u001b[1;33m)\u001b[0m\u001b[1;33m\u001b[0m\u001b[1;33m\u001b[0m\u001b[0m\n",
      "\u001b[1;31mKeyboardInterrupt\u001b[0m: "
     ]
    }
   ],
   "source": [
    "# Creating list to append tweet data to\n",
    "tweets_list2 = []\n",
    "\n",
    "# Using TwitterSearchScraper to scrape data and append tweets to list\n",
    "for i,tweet in enumerate(sntwitter.TwitterSearchScraper('Vestel since:2019-06-01 ').get_items()):\n",
    "    \n",
    "    tweets_list2.append([tweet.date, tweet.id, tweet.content, tweet.user.username,tweet.likeCount,tweet.retweetCount])\n",
    "    \n",
    "# Creating a dataframe from the tweets list above\n",
    "tweets_df2 = pd.DataFrame(tweets_list2, columns=['Datetime', 'Text'])"
   ]
  },
  {
   "cell_type": "code",
   "execution_count": 4,
   "id": "78b5637e",
   "metadata": {},
   "outputs": [
    {
     "name": "stdout",
     "output_type": "stream",
     "text": [
      "2021-08-05 18:51:35,827 INFO sqlalchemy.engine.Engine PRAGMA main.table_info(\"Tweet_list\")\n",
      "2021-08-05 18:51:35,828 INFO sqlalchemy.engine.Engine [raw sql] ()\n",
      "2021-08-05 18:51:35,830 INFO sqlalchemy.engine.Engine PRAGMA temp.table_info(\"Tweet_list\")\n",
      "2021-08-05 18:51:35,830 INFO sqlalchemy.engine.Engine [raw sql] ()\n",
      "2021-08-05 18:51:35,832 INFO sqlalchemy.engine.Engine BEGIN (implicit)\n",
      "2021-08-05 18:51:35,834 INFO sqlalchemy.engine.Engine \n",
      "CREATE TABLE \"Tweet_list\" (\n",
      "\t\"index\" BIGINT, \n",
      "\t\"Datetime\" TIMESTAMP, \n",
      "\t\"Tweet Id\" BIGINT, \n",
      "\t\"Text\" TEXT, \n",
      "\t\"Username\" TEXT, \n",
      "\t\"LikeCount\" BIGINT, \n",
      "\t\"RetweetCount\" BIGINT\n",
      ")\n",
      "\n",
      "\n",
      "2021-08-05 18:51:35,834 INFO sqlalchemy.engine.Engine [no key 0.00062s] ()\n",
      "2021-08-05 18:51:35,854 INFO sqlalchemy.engine.Engine CREATE INDEX \"ix_Tweet_list_index\" ON \"Tweet_list\" (\"index\")\n",
      "2021-08-05 18:51:35,855 INFO sqlalchemy.engine.Engine [no key 0.00064s] ()\n",
      "2021-08-05 18:51:35,862 INFO sqlalchemy.engine.Engine COMMIT\n",
      "2021-08-05 18:51:35,933 INFO sqlalchemy.engine.Engine BEGIN (implicit)\n",
      "2021-08-05 18:51:36,621 INFO sqlalchemy.engine.Engine INSERT INTO \"Tweet_list\" (\"index\", \"Datetime\", \"Tweet Id\", \"Text\", \"Username\", \"LikeCount\", \"RetweetCount\") VALUES (?, ?, ?, ?, ?, ?, ?)\n",
      "2021-08-05 18:51:36,622 INFO sqlalchemy.engine.Engine [generated in 0.61402s] ((0, '2021-08-05 15:15:45.000000', 1423301709997162499, '@mycalamityjane Algyo-Vestel', 'sdtyener', 0, 0), (1, '2021-08-05 15:13:36.000000', 1423301165278760960, '@bekoturkiye @arcelik @ArcelikDestek @Vestel https://t.co/YxoqsN1nqU', 'melisaakaygusuz', 0, 0), (2, '2021-08-05 15:11:06.000000', 1423300536980344839, 'Dün klima taktınız ama soğuk hava vermiyor. Klimanın görevi nedir arkadaşlar? Bugün geleceğiz dediniz gelmediniz. Şimdi de yarın sabah diyorsunuz, yaz sonu gelin isterseniz?\\nYerli malı dedik, aldık ama pişman ettiniz. Acil çözüm bulun! @VestelDestek @Vestel #vestel', 'kelomen_', 0, 0), (3, '2021-08-05 15:10:10.000000', 1423300300971167749, '@CelalCiftecii #tuclk #karton #gedza #vestel #nuhc #kaplm #bryat #otkar #pegasus #ditas #jants kolay gelsin', 'Anilbey1975', 0, 0), (4, '2021-08-05 15:00:43.000000', 1423297925363478529, '@marmarisbeltr @Vestel @zorluholdingtr \\n@bellona @kelebekmobilya @mondimobilya @gizemmobilya @arcelik @ArcelikDestek @SamsungTurkiye @SiemensTurkiye @dogtasbatman', 'BusCakici', 0, 0), (5, '2021-08-05 14:57:31.000000', 1423297120971333634, '@marmarisbeltr @Vestel @zorluholdingtr @bellona @kelebekmobilya @mondimobilya @gizemmobilya @arcelik @ArcelikDestek @SamsungTurkiye @SiemensTurkiye @ ... (174 characters truncated) ...  @ME_Klima @TUSIAD @kocholding @acunilicali @acunmedya @Acuncom @DemetAkalin @tarkan @fundaarar @duygucetinkaya @fzaofficial @zyildiz_ @YildizzTilbee', 'papua_adam', 0, 0), (6, '2021-08-05 14:54:17.000000', 1423296305338613772, '@marmarisbeltr @Vestel @zorluholdingtr @bellona @kelebekmobilya @mondimobilya @gizemmobilya @arcelik @ArcelikDestek @SamsungTurkiye @SiemensTurkiye @dogtasbatman @furniture_ist @KaplanCarpet @redcarpet @ist_sanayiodasi @gantepso @sanayiodasi @lgturkiye', 'papua_adam', 0, 0), (7, '2021-08-05 14:53:12.000000', 1423296031123402764, '@mehmetyazir Vestel nasıl', 'nrcsm23', 0, 0)  ... displaying 10 of 81693 total bound parameter sets ...  (81691, '2019-06-01 03:15:51.000000', 1134659796500660224, \"@selimonline_ @yusufcsahin Herkes oyle soyluyor ama bende simdi Vestel Venus Z20'yi begendim sizce nasil?\", 'BanusGE', 0, 0), (81692, '2019-06-01 01:17:30.000000', 1134630012848463872, \"Vestel'in insansız hava aracı KARAYEL https://t.co/hOlrsg1WUF\", 'Nettvhd', 6, 0))\n",
      "2021-08-05 18:51:37,015 INFO sqlalchemy.engine.Engine COMMIT\n",
      "2021-08-05 18:51:37,105 INFO sqlalchemy.engine.Engine SELECT name FROM sqlite_master WHERE type='table' ORDER BY name\n",
      "2021-08-05 18:51:37,106 INFO sqlalchemy.engine.Engine [raw sql] ()\n"
     ]
    },
    {
     "data": {
      "text/html": [
       "<div>\n",
       "<style scoped>\n",
       "    .dataframe tbody tr th:only-of-type {\n",
       "        vertical-align: middle;\n",
       "    }\n",
       "\n",
       "    .dataframe tbody tr th {\n",
       "        vertical-align: top;\n",
       "    }\n",
       "\n",
       "    .dataframe thead th {\n",
       "        text-align: right;\n",
       "    }\n",
       "</style>\n",
       "<table border=\"1\" class=\"dataframe\">\n",
       "  <thead>\n",
       "    <tr style=\"text-align: right;\">\n",
       "      <th></th>\n",
       "      <th>Datetime</th>\n",
       "      <th>Tweet Id</th>\n",
       "      <th>Text</th>\n",
       "      <th>Username</th>\n",
       "      <th>LikeCount</th>\n",
       "      <th>RetweetCount</th>\n",
       "    </tr>\n",
       "  </thead>\n",
       "  <tbody>\n",
       "    <tr>\n",
       "      <th>0</th>\n",
       "      <td>2021-08-05 15:15:45+00:00</td>\n",
       "      <td>1423301709997162499</td>\n",
       "      <td>@mycalamityjane Algyo-Vestel</td>\n",
       "      <td>sdtyener</td>\n",
       "      <td>0</td>\n",
       "      <td>0</td>\n",
       "    </tr>\n",
       "    <tr>\n",
       "      <th>1</th>\n",
       "      <td>2021-08-05 15:13:36+00:00</td>\n",
       "      <td>1423301165278760960</td>\n",
       "      <td>@bekoturkiye @arcelik @ArcelikDestek @Vestel h...</td>\n",
       "      <td>melisaakaygusuz</td>\n",
       "      <td>0</td>\n",
       "      <td>0</td>\n",
       "    </tr>\n",
       "    <tr>\n",
       "      <th>2</th>\n",
       "      <td>2021-08-05 15:11:06+00:00</td>\n",
       "      <td>1423300536980344839</td>\n",
       "      <td>Dün klima taktınız ama soğuk hava vermiyor. Kl...</td>\n",
       "      <td>kelomen_</td>\n",
       "      <td>0</td>\n",
       "      <td>0</td>\n",
       "    </tr>\n",
       "    <tr>\n",
       "      <th>3</th>\n",
       "      <td>2021-08-05 15:10:10+00:00</td>\n",
       "      <td>1423300300971167749</td>\n",
       "      <td>@CelalCiftecii #tuclk #karton #gedza #vestel #...</td>\n",
       "      <td>Anilbey1975</td>\n",
       "      <td>0</td>\n",
       "      <td>0</td>\n",
       "    </tr>\n",
       "    <tr>\n",
       "      <th>4</th>\n",
       "      <td>2021-08-05 15:00:43+00:00</td>\n",
       "      <td>1423297925363478529</td>\n",
       "      <td>@marmarisbeltr @Vestel @zorluholdingtr \\n@bell...</td>\n",
       "      <td>BusCakici</td>\n",
       "      <td>0</td>\n",
       "      <td>0</td>\n",
       "    </tr>\n",
       "  </tbody>\n",
       "</table>\n",
       "</div>"
      ],
      "text/plain": [
       "                   Datetime             Tweet Id  \\\n",
       "0 2021-08-05 15:15:45+00:00  1423301709997162499   \n",
       "1 2021-08-05 15:13:36+00:00  1423301165278760960   \n",
       "2 2021-08-05 15:11:06+00:00  1423300536980344839   \n",
       "3 2021-08-05 15:10:10+00:00  1423300300971167749   \n",
       "4 2021-08-05 15:00:43+00:00  1423297925363478529   \n",
       "\n",
       "                                                Text         Username  \\\n",
       "0                       @mycalamityjane Algyo-Vestel         sdtyener   \n",
       "1  @bekoturkiye @arcelik @ArcelikDestek @Vestel h...  melisaakaygusuz   \n",
       "2  Dün klima taktınız ama soğuk hava vermiyor. Kl...         kelomen_   \n",
       "3  @CelalCiftecii #tuclk #karton #gedza #vestel #...      Anilbey1975   \n",
       "4  @marmarisbeltr @Vestel @zorluholdingtr \\n@bell...        BusCakici   \n",
       "\n",
       "   LikeCount  RetweetCount  \n",
       "0          0             0  \n",
       "1          0             0  \n",
       "2          0             0  \n",
       "3          0             0  \n",
       "4          0             0  "
      ]
     },
     "execution_count": 4,
     "metadata": {},
     "output_type": "execute_result"
    }
   ],
   "source": [
    "tweets_df2.to_sql('Tweet_list',engine, if_exists='fail')\n"
   ]
  },
  {
   "cell_type": "code",
   "execution_count": 289,
   "id": "17d611e2",
   "metadata": {},
   "outputs": [
    {
     "ename": "NameError",
     "evalue": "name 'tweets_df2' is not defined",
     "output_type": "error",
     "traceback": [
      "\u001b[1;31m---------------------------------------------------------------------------\u001b[0m",
      "\u001b[1;31mNameError\u001b[0m                                 Traceback (most recent call last)",
      "\u001b[1;32m<ipython-input-289-5e46b85e2cd2>\u001b[0m in \u001b[0;36m<module>\u001b[1;34m\u001b[0m\n\u001b[0;32m      1\u001b[0m \u001b[1;31m# Display first 5 entries from dataframe\u001b[0m\u001b[1;33m\u001b[0m\u001b[1;33m\u001b[0m\u001b[1;33m\u001b[0m\u001b[0m\n\u001b[1;32m----> 2\u001b[1;33m \u001b[0mtweets_df2\u001b[0m\u001b[1;33m.\u001b[0m\u001b[0mhead\u001b[0m\u001b[1;33m(\u001b[0m\u001b[1;33m)\u001b[0m\u001b[1;33m\u001b[0m\u001b[1;33m\u001b[0m\u001b[0m\n\u001b[0m",
      "\u001b[1;31mNameError\u001b[0m: name 'tweets_df2' is not defined"
     ]
    }
   ],
   "source": [
    "\n",
    "# Display first 5 entries from dataframe\n",
    "tweets_df2.head()"
   ]
  },
  {
   "cell_type": "code",
   "execution_count": 25,
   "id": "609da66b",
   "metadata": {},
   "outputs": [],
   "source": [
    "#import requests as req\n",
    "from bs4 import BeautifulSoup\n",
    "from urllib.request import urlopen, Request\n",
    "import requests"
   ]
  },
  {
   "cell_type": "code",
   "execution_count": 26,
   "id": "705edc14",
   "metadata": {},
   "outputs": [
    {
     "ename": "NameError",
     "evalue": "name 'get_entries' is not defined",
     "output_type": "error",
     "traceback": [
      "\u001b[1;31m---------------------------------------------------------------------------\u001b[0m",
      "\u001b[1;31mNameError\u001b[0m                                 Traceback (most recent call last)",
      "\u001b[1;32m<ipython-input-26-fe43c1af4228>\u001b[0m in \u001b[0;36m<module>\u001b[1;34m\u001b[0m\n\u001b[0;32m     20\u001b[0m     \u001b[0mwebpage\u001b[0m \u001b[1;33m=\u001b[0m \u001b[0mweb_byte\u001b[0m\u001b[1;33m.\u001b[0m\u001b[0mdecode\u001b[0m\u001b[1;33m(\u001b[0m\u001b[1;34m'utf-8'\u001b[0m\u001b[1;33m)\u001b[0m\u001b[1;33m\u001b[0m\u001b[1;33m\u001b[0m\u001b[0m\n\u001b[0;32m     21\u001b[0m     \u001b[0msoup\u001b[0m \u001b[1;33m=\u001b[0m \u001b[0mBeautifulSoup\u001b[0m\u001b[1;33m(\u001b[0m\u001b[0mwebpage\u001b[0m\u001b[1;33m,\u001b[0m \u001b[1;34m'lxml'\u001b[0m\u001b[1;33m)\u001b[0m\u001b[1;33m\u001b[0m\u001b[1;33m\u001b[0m\u001b[0m\n\u001b[1;32m---> 22\u001b[1;33m     \u001b[0mget_entries\u001b[0m\u001b[1;33m(\u001b[0m\u001b[0msoup\u001b[0m\u001b[1;33m)\u001b[0m\u001b[1;33m\u001b[0m\u001b[1;33m\u001b[0m\u001b[0m\n\u001b[0m\u001b[0;32m     23\u001b[0m \u001b[1;33m\u001b[0m\u001b[0m\n\u001b[0;32m     24\u001b[0m \u001b[1;33m\u001b[0m\u001b[0m\n",
      "\u001b[1;31mNameError\u001b[0m: name 'get_entries' is not defined"
     ]
    }
   ],
   "source": [
    "#URL1=\"https://pynative.com/python-sqlite/#h-python-sqlite-database-connection\"\n",
    "\n",
    "#ekşide sayfa 81 den 99 a kadar çek datayı\n",
    "# Creating list to append eksisozluk data to\n",
    "eksisozluk_list = []\n",
    "pages=[81,82,82,84,85,86,87,88,89,90,91,92,93,94,95,96,97,98,99]\n",
    "url=\"\"\n",
    "url_list=[]\n",
    "eksisozluk_list = []\n",
    "URL=\"https://eksisozluk.com/vestel--42368?p={}\"\n",
    "for page in pages:\n",
    "    url=URL.format(page)\n",
    "    \n",
    "    session = requests.Session()\n",
    "    response = Request(url, headers={'User-Agent': 'Mozilla/5.0'})\n",
    "    web_byte = urlopen(response).read()\n",
    "    webpage = web_byte.decode('utf-8')\n",
    "    soup = BeautifulSoup(webpage, 'lxml')\n",
    "    get_entries(soup)\n",
    "   \n",
    "\n",
    "# Creating a dataframe from the tweets list above\n",
    "eksisozluk_df = pd.DataFrame(eksisozluk_list, columns=['Date_time', 'EntryId', 'Text'])\n",
    "\n",
    "def add_item_to_df(date_time,entry_id,text):\n",
    "    eksisozluk_list.append([date_time, entry_id, text])\n",
    "   \n",
    "def get_entries(soup):\n",
    "    \n",
    "    entries=soup.find(\"ul\",{\"id\":\"entry-item-list\"})\n",
    "    items=entries.findAll('li')\n",
    "    for item in items:\n",
    "\n",
    "        text=item.find(\"div\",{\"class\":\"content\"}).get_text().strip()\n",
    "        entry_id=item[\"data-id\"]\n",
    "        date=item.find(\"div\",{\"class\":\"info\"})\n",
    "        date_time=date.find(\"a\",{\"class\":\"entry-date permalink\"}).get_text().strip()\n",
    "        add_item_to_df(date_time,entry_id,text)"
   ]
  },
  {
   "cell_type": "code",
   "execution_count": 22,
   "id": "15c6e61a",
   "metadata": {},
   "outputs": [
    {
     "ename": "NameError",
     "evalue": "name 'eksisozluk_df' is not defined",
     "output_type": "error",
     "traceback": [
      "\u001b[1;31m---------------------------------------------------------------------------\u001b[0m",
      "\u001b[1;31mNameError\u001b[0m                                 Traceback (most recent call last)",
      "\u001b[1;32m<ipython-input-22-6e1dab12a76c>\u001b[0m in \u001b[0;36m<module>\u001b[1;34m\u001b[0m\n\u001b[1;32m----> 1\u001b[1;33m \u001b[0meksisozluk_df\u001b[0m\u001b[1;33m.\u001b[0m\u001b[0mcount\u001b[0m\u001b[1;33m(\u001b[0m\u001b[1;33m)\u001b[0m\u001b[1;33m\u001b[0m\u001b[1;33m\u001b[0m\u001b[0m\n\u001b[0m",
      "\u001b[1;31mNameError\u001b[0m: name 'eksisozluk_df' is not defined"
     ]
    }
   ],
   "source": [
    "eksisozluk_df.count()"
   ]
  },
  {
   "cell_type": "code",
   "execution_count": 164,
   "id": "f415ea35",
   "metadata": {},
   "outputs": [
    {
     "data": {
      "text/html": [
       "<div>\n",
       "<style scoped>\n",
       "    .dataframe tbody tr th:only-of-type {\n",
       "        vertical-align: middle;\n",
       "    }\n",
       "\n",
       "    .dataframe tbody tr th {\n",
       "        vertical-align: top;\n",
       "    }\n",
       "\n",
       "    .dataframe thead th {\n",
       "        text-align: right;\n",
       "    }\n",
       "</style>\n",
       "<table border=\"1\" class=\"dataframe\">\n",
       "  <thead>\n",
       "    <tr style=\"text-align: right;\">\n",
       "      <th></th>\n",
       "      <th>Date_time</th>\n",
       "      <th>EntryId</th>\n",
       "      <th>Text</th>\n",
       "    </tr>\n",
       "  </thead>\n",
       "  <tbody>\n",
       "    <tr>\n",
       "      <th>0</th>\n",
       "      <td>02.05.2019 17:55</td>\n",
       "      <td>89604683</td>\n",
       "      <td>ötv zamminin arkasinda bu babadagli piyanist ş...</td>\n",
       "    </tr>\n",
       "    <tr>\n",
       "      <th>1</th>\n",
       "      <td>03.05.2019 00:17 ~ 00:18</td>\n",
       "      <td>89618070</td>\n",
       "      <td>çöpünü dahi kullanmadığım ve bundan sonra da k...</td>\n",
       "    </tr>\n",
       "    <tr>\n",
       "      <th>2</th>\n",
       "      <td>05.05.2019 22:41</td>\n",
       "      <td>89725027</td>\n",
       "      <td>2 buzdolabi2 tv2 camasir mak1 firin 1 supurge ...</td>\n",
       "    </tr>\n",
       "    <tr>\n",
       "      <th>3</th>\n",
       "      <td>17.05.2019 16:00</td>\n",
       "      <td>90194564</td>\n",
       "      <td>yaklaşık 1 yıl önce sba120 soundbar aldım. ald...</td>\n",
       "    </tr>\n",
       "    <tr>\n",
       "      <th>4</th>\n",
       "      <td>08.06.2019 14:39</td>\n",
       "      <td>91024867</td>\n",
       "      <td>cep telefonlarının dokunmatikleri 2000'li yıll...</td>\n",
       "    </tr>\n",
       "  </tbody>\n",
       "</table>\n",
       "</div>"
      ],
      "text/plain": [
       "                  Date_time   EntryId  \\\n",
       "0          02.05.2019 17:55  89604683   \n",
       "1  03.05.2019 00:17 ~ 00:18  89618070   \n",
       "2          05.05.2019 22:41  89725027   \n",
       "3          17.05.2019 16:00  90194564   \n",
       "4          08.06.2019 14:39  91024867   \n",
       "\n",
       "                                                Text  \n",
       "0  ötv zamminin arkasinda bu babadagli piyanist ş...  \n",
       "1  çöpünü dahi kullanmadığım ve bundan sonra da k...  \n",
       "2  2 buzdolabi2 tv2 camasir mak1 firin 1 supurge ...  \n",
       "3  yaklaşık 1 yıl önce sba120 soundbar aldım. ald...  \n",
       "4  cep telefonlarının dokunmatikleri 2000'li yıll...  "
      ]
     },
     "execution_count": 164,
     "metadata": {},
     "output_type": "execute_result"
    }
   ],
   "source": [
    "# Display first 5 entries from dataframe\n",
    "eksisozluk_df.head()"
   ]
  },
  {
   "cell_type": "code",
   "execution_count": 165,
   "id": "9037463d",
   "metadata": {},
   "outputs": [
    {
     "name": "stdout",
     "output_type": "stream",
     "text": [
      "2021-08-06 11:21:10,496 INFO sqlalchemy.engine.Engine PRAGMA main.table_info(\"eksisozluk_list\")\n",
      "2021-08-06 11:21:10,496 INFO sqlalchemy.engine.Engine [raw sql] ()\n",
      "2021-08-06 11:21:10,505 INFO sqlalchemy.engine.Engine PRAGMA temp.table_info(\"eksisozluk_list\")\n",
      "2021-08-06 11:21:10,507 INFO sqlalchemy.engine.Engine [raw sql] ()\n",
      "2021-08-06 11:21:10,511 INFO sqlalchemy.engine.Engine BEGIN (implicit)\n",
      "2021-08-06 11:21:10,513 INFO sqlalchemy.engine.Engine \n",
      "CREATE TABLE eksisozluk_list (\n",
      "\t\"index\" BIGINT, \n",
      "\t\"Date_time\" TEXT, \n",
      "\t\"EntryId\" TEXT, \n",
      "\t\"Text\" TEXT\n",
      ")\n",
      "\n",
      "\n",
      "2021-08-06 11:21:10,514 INFO sqlalchemy.engine.Engine [no key 0.00132s] ()\n",
      "2021-08-06 11:21:10,524 INFO sqlalchemy.engine.Engine CREATE INDEX ix_eksisozluk_list_index ON eksisozluk_list (\"index\")\n",
      "2021-08-06 11:21:10,525 INFO sqlalchemy.engine.Engine [no key 0.00124s] ()\n",
      "2021-08-06 11:21:10,535 INFO sqlalchemy.engine.Engine COMMIT\n",
      "2021-08-06 11:21:10,553 INFO sqlalchemy.engine.Engine BEGIN (implicit)\n",
      "2021-08-06 11:21:10,557 INFO sqlalchemy.engine.Engine INSERT INTO eksisozluk_list (\"index\", \"Date_time\", \"EntryId\", \"Text\") VALUES (?, ?, ?, ?)\n",
      "2021-08-06 11:21:10,559 INFO sqlalchemy.engine.Engine [generated in 0.00342s] ((0, '02.05.2019 17:55', '89604683', 'ötv zamminin arkasinda bu babadagli piyanist şantör kilikli herif çikmazsa bende ne olayim.tanim: tirt elektronik markasi'), (1, '03.05.2019 00:17 ~ 00:18', '89618070', 'çöpünü dahi kullanmadığım ve bundan sonra da kullanmamaya devam edeceğim marka.'), (2, '05.05.2019 22:41', '89725027', '2 buzdolabi2 tv2 camasir mak1 firin 1 supurge alarak yerli ve milli firmamıza destegimizi sürdürüyorum. gayette memnunum. 1 kere fırın ariza yaptı se ... (161 characters truncated) ... yat olarakta gayet makul diğer firmalara gore 2 kat fiyat farkı var. hala bosch diyip almanyaya para kazandıranlara bu markayı kesinlikle oneriyorum.'), (3, '17.05.2019 16:00', '90194564', 'yaklaşık 1 yıl önce sba120 soundbar aldım. aldığım günden beri bluetooth üzerinden 1 saniye gecikmeli ses aktarımı yapıyor. nereye yazdıysam çözüm olmadı.vestel daha basit bir hoparlör bile üretemiyor. çinden markasız ürün alsam böyle sorunlar olmaz. koşarak kaçın.'), (4, '08.06.2019 14:39', '91024867', \"cep telefonlarının dokunmatikleri 2000'li yılların başında çıkan akıllı telefonların dokunmatikleri ile yarışır düzeyde. kimse satıyorlar bu telefonları acayip meraktayım.\"), (5, '11.06.2019 18:33', '91153879', 'buzdolabı görünümlü traktör satan marka.. yerli üretimde en dandik en kalitesiz ne varsa bunlarda.. yetkili servisleri de feci fiyasko.. aklı başında insan bu markanın kapısından içeri girmez..'), (6, '25.06.2019 19:54', '91707600', 'bir yıla yakın süre çalıştığım eski şirketim. hislerimin tamamını yazarsam kurumsal itibarı zedelemek suçundan dava açılabilir.'), (7, '11.07.2019 11:29', '92454726', 'klima alırken dikkat etmek gereken, satan ama nasıl montaj yapacağını bilmeden satan firma(bkz: vestel vega plus inverter)')  ... displaying 10 of 188 total bound parameter sets ...  (186, '05.08.2021 14:45', '126555509', 'asla ama asla bulasilmamasi gereken firma. sinir hastası olursunuz. muadilleri aynı gün montaj yaparken kendileri telefonlarını açmaya dahi tenezzül etmedikleri servisleriyle çok güzel \"yerli ve milli\" bir firma olduklarını göstermişlerdir. rezalet.'), (187, '05.08.2021 15:03 ~ 15:06', '126556138', 'dünyanın en komik politikasına sahip marka. bütün beyaz eşyalar için ücretsiz montaj ve nakliye hizmeti sunarken 49” altı televizyonlar için 100 lira kurulum ücreti talep etmektedirler. bana birisi bunun mantıklı açıklamasını yapabilir mi ? neden 49” altı ve neden ücretli ?'))\n",
      "2021-08-06 11:21:10,565 INFO sqlalchemy.engine.Engine COMMIT\n"
     ]
    }
   ],
   "source": [
    "eksisozluk_df.to_sql('eksisozluk_list',engine, if_exists='fail')"
   ]
  },
  {
   "cell_type": "code",
   "execution_count": 18,
   "id": "d9f793c7",
   "metadata": {},
   "outputs": [],
   "source": [
    "import string\n",
    "from nltk.stem import PorterStemmer\n",
    "import nltk\n",
    "import re"
   ]
  },
  {
   "cell_type": "code",
   "execution_count": 187,
   "id": "a9a2e7b0",
   "metadata": {},
   "outputs": [],
   "source": [
    "from selenium.webdriver import Opera\n",
    "import os\n",
    "#import requests as req\n",
    "from bs4 import BeautifulSoup\n",
    "from urllib.request import urlopen, Request\n",
    "import requests\n",
    "import time\n",
    "\n",
    "\n"
   ]
  },
  {
   "cell_type": "code",
   "execution_count": 283,
   "id": "79e2f511",
   "metadata": {},
   "outputs": [],
   "source": [
    "\n",
    "from urllib.request import Request, urlopen\n",
    "shiftdelete_list=[]\n",
    "urll=\"https://forum.shiftdelete.net/ara/3273782/?page={}&q=vestel&t=post&c[child_nodes]=1&c[nodes][0]=459&c[title_only]=1&o=date\"\n",
    "\n"
   ]
  },
  {
   "cell_type": "code",
   "execution_count": 284,
   "id": "6e0efe1f",
   "metadata": {},
   "outputs": [],
   "source": [
    "def comment_info(url2):##comment sayfası için kod\n",
    "    \n",
    "    session = requests.Session()\n",
    "    response = Request(url2, headers={'User-Agent': 'Mozilla/5.0'})\n",
    "    web_byte = urlopen(response).read()\n",
    "    webpage = web_byte.decode('utf-8')\n",
    "    soup = BeautifulSoup(webpage, 'lxml')\n",
    "    comments=soup.findAll(\"article\",{\"class\":\"message message--post js-post js-inlineModContainer\"})\n",
    "    for com in comments:\n",
    "        satır=com.find(\"div\",{\"class\":\"bbWrapper\"})\n",
    "        zaman_yorum=com.find(\"div\",{\"class\":\"message-header\"}).find(\"li\",{\"class\":\"u-concealed\"}).a.find(\"time\",{\"class\":\"u-dt\"}).get_text().strip()    \n",
    "        \n",
    "        for child in satır.find_all(\"blockquote\") and satır.find_all(\"div\"):\n",
    "            child.decompose()\n",
    "        ##QUOTELARI DA ALMAMAK İÇİN CHİLD TAGLERİ DISPOSE ETTİM. KAYNAK:https://stackoverflow.com/questions/40660273/in-beautifulsoup-ignore-children-elements-while-getting-parent-element-data\n",
    "        yorum=satır.get_text().strip()\n",
    "        shiftdelete_list.append([zaman_yorum,yorum])\n",
    "        \n",
    "\n"
   ]
  },
  {
   "cell_type": "code",
   "execution_count": 285,
   "id": "f7ef4de7",
   "metadata": {},
   "outputs": [],
   "source": [
    "\n",
    "for page in range(1,4):#3 pages will be searched\n",
    "    \n",
    "        \n",
    "    url=urll.format(page)\n",
    "    session = requests.Session()\n",
    "    response = Request(url, headers={'User-Agent': 'Mozilla/5.0'})\n",
    "    #HTTP 403 ERROR KAYNAK:https://stackoverflow.com/questions/16627227/problem-http-error-403-in-python-3-web-scraping\n",
    "        \n",
    "    web_byte = urlopen(response).read()\n",
    "    webpage = web_byte.decode('utf-8')\n",
    "    soup = BeautifulSoup(webpage, 'lxml')\n",
    "    son=soup.findAll(\"li\",{\"class\":\"block-row block-row--separated js-inlineModContainer\"})\n",
    "\n",
    "    for item in son:\n",
    "        url_link=(item.find(\"h3\",{\"class\":\"contentRow-title\"})).a.attrs['href']\n",
    "        li=\"https://forum.shiftdelete.net{}\"\n",
    "        url2=li.format(url_link)\n",
    "        comment_info(url2)\n"
   ]
  },
  {
   "cell_type": "code",
   "execution_count": 286,
   "id": "dc4f386f",
   "metadata": {},
   "outputs": [],
   "source": [
    "# Creating a dataframe from the tweets list above\n",
    "shiftdelete_df = pd.DataFrame(shiftdelete_list, columns=['Date_time', 'Text'])"
   ]
  },
  {
   "cell_type": "code",
   "execution_count": 287,
   "id": "61089255",
   "metadata": {},
   "outputs": [
    {
     "data": {
      "text/html": [
       "<div>\n",
       "<style scoped>\n",
       "    .dataframe tbody tr th:only-of-type {\n",
       "        vertical-align: middle;\n",
       "    }\n",
       "\n",
       "    .dataframe tbody tr th {\n",
       "        vertical-align: top;\n",
       "    }\n",
       "\n",
       "    .dataframe thead th {\n",
       "        text-align: right;\n",
       "    }\n",
       "</style>\n",
       "<table border=\"1\" class=\"dataframe\">\n",
       "  <thead>\n",
       "    <tr style=\"text-align: right;\">\n",
       "      <th></th>\n",
       "      <th>Date_time</th>\n",
       "      <th>Text</th>\n",
       "    </tr>\n",
       "  </thead>\n",
       "  <tbody>\n",
       "    <tr>\n",
       "      <th>0</th>\n",
       "      <td>6 Ağu 2021</td>\n",
       "      <td>Abilerim kardeşlerim aranıza yeni katıldım bir...</td>\n",
       "    </tr>\n",
       "    <tr>\n",
       "      <th>1</th>\n",
       "      <td>6 Ağu 2021</td>\n",
       "      <td>Stock ROM indirip kurmayı deneyin.</td>\n",
       "    </tr>\n",
       "    <tr>\n",
       "      <th>2</th>\n",
       "      <td>30 Tem 2021</td>\n",
       "      <td>Yerli telefon üretimiyle birçok kez gündeme ge...</td>\n",
       "    </tr>\n",
       "    <tr>\n",
       "      <th>3</th>\n",
       "      <td>30 Tem 2021</td>\n",
       "      <td>Piyasadan çekileceğini kendisi mi söyledi\\n\\nA...</td>\n",
       "    </tr>\n",
       "    <tr>\n",
       "      <th>4</th>\n",
       "      <td>30 Tem 2021</td>\n",
       "      <td>İki yıldır piyasaya yeni ürün sunmayarak eski ...</td>\n",
       "    </tr>\n",
       "    <tr>\n",
       "      <th>...</th>\n",
       "      <td>...</td>\n",
       "      <td>...</td>\n",
       "    </tr>\n",
       "    <tr>\n",
       "      <th>459</th>\n",
       "      <td>3 Ocak 2018</td>\n",
       "      <td>Öyle yani Bazıları reklam falan yaptırıyorlar ...</td>\n",
       "    </tr>\n",
       "    <tr>\n",
       "      <th>460</th>\n",
       "      <td>3 Ocak 2018</td>\n",
       "      <td>vestel servisi iyi ki.</td>\n",
       "    </tr>\n",
       "    <tr>\n",
       "      <th>461</th>\n",
       "      <td>14 Ocak 2018</td>\n",
       "      <td>ben Vestel kullandım ve şikayetçi değilim. Ves...</td>\n",
       "    </tr>\n",
       "    <tr>\n",
       "      <th>462</th>\n",
       "      <td>2 Eyl 2018</td>\n",
       "      <td>Ben memnunum kişinin beklentisine göre olmalı</td>\n",
       "    </tr>\n",
       "    <tr>\n",
       "      <th>463</th>\n",
       "      <td>2 Eyl 2018</td>\n",
       "      <td>Venüs Türkiye'de üretiliyor.</td>\n",
       "    </tr>\n",
       "  </tbody>\n",
       "</table>\n",
       "<p>464 rows × 2 columns</p>\n",
       "</div>"
      ],
      "text/plain": [
       "        Date_time                                               Text\n",
       "0      6 Ağu 2021  Abilerim kardeşlerim aranıza yeni katıldım bir...\n",
       "1      6 Ağu 2021                 Stock ROM indirip kurmayı deneyin.\n",
       "2     30 Tem 2021  Yerli telefon üretimiyle birçok kez gündeme ge...\n",
       "3     30 Tem 2021  Piyasadan çekileceğini kendisi mi söyledi\\n\\nA...\n",
       "4     30 Tem 2021  İki yıldır piyasaya yeni ürün sunmayarak eski ...\n",
       "..            ...                                                ...\n",
       "459   3 Ocak 2018  Öyle yani Bazıları reklam falan yaptırıyorlar ...\n",
       "460   3 Ocak 2018                             vestel servisi iyi ki.\n",
       "461  14 Ocak 2018  ben Vestel kullandım ve şikayetçi değilim. Ves...\n",
       "462    2 Eyl 2018      Ben memnunum kişinin beklentisine göre olmalı\n",
       "463    2 Eyl 2018                       Venüs Türkiye'de üretiliyor.\n",
       "\n",
       "[464 rows x 2 columns]"
      ]
     },
     "execution_count": 287,
     "metadata": {},
     "output_type": "execute_result"
    }
   ],
   "source": [
    "shiftdelete_df\n"
   ]
  },
  {
   "cell_type": "code",
   "execution_count": 288,
   "id": "1e552152",
   "metadata": {},
   "outputs": [
    {
     "name": "stdout",
     "output_type": "stream",
     "text": [
      "2021-08-16 22:00:21,230 INFO sqlalchemy.engine.Engine PRAGMA main.table_info(\"shiftdelete_list\")\n",
      "2021-08-16 22:00:21,231 INFO sqlalchemy.engine.Engine [raw sql] ()\n",
      "2021-08-16 22:00:21,234 INFO sqlalchemy.engine.Engine PRAGMA temp.table_info(\"shiftdelete_list\")\n",
      "2021-08-16 22:00:21,235 INFO sqlalchemy.engine.Engine [raw sql] ()\n",
      "2021-08-16 22:00:21,238 INFO sqlalchemy.engine.Engine BEGIN (implicit)\n",
      "2021-08-16 22:00:21,239 INFO sqlalchemy.engine.Engine \n",
      "CREATE TABLE shiftdelete_list (\n",
      "\t\"index\" BIGINT, \n",
      "\t\"Date_time\" TEXT, \n",
      "\t\"Text\" TEXT\n",
      ")\n",
      "\n",
      "\n",
      "2021-08-16 22:00:21,240 INFO sqlalchemy.engine.Engine [no key 0.00113s] ()\n",
      "2021-08-16 22:00:21,260 INFO sqlalchemy.engine.Engine CREATE INDEX ix_shiftdelete_list_index ON shiftdelete_list (\"index\")\n",
      "2021-08-16 22:00:21,261 INFO sqlalchemy.engine.Engine [no key 0.00077s] ()\n",
      "2021-08-16 22:00:21,268 INFO sqlalchemy.engine.Engine COMMIT\n",
      "2021-08-16 22:00:21,276 INFO sqlalchemy.engine.Engine BEGIN (implicit)\n",
      "2021-08-16 22:00:21,281 INFO sqlalchemy.engine.Engine INSERT INTO shiftdelete_list (\"index\", \"Date_time\", \"Text\") VALUES (?, ?, ?)\n",
      "2021-08-16 22:00:21,282 INFO sqlalchemy.engine.Engine [generated in 0.00286s] ((0, '6 Ağu 2021', 'Abilerim kardeşlerim aranıza yeni katıldım bir teknoloji firmasında çalışıyorum ama teknolojinin göbeğinde yardımınıza ihtiyacım var milattan kalma b ... (124 characters truncated) ... kmıyor cihazı ihtiyaç sahibi birine vericem yaptıracak ama içinde ki bilgileri silmem gerekli konu hakkında destek olabilirseniz çok makbule geçer...'), (1, '6 Ağu 2021', 'Stock ROM indirip kurmayı deneyin.'), (2, '30 Tem 2021', \"Yerli telefon üretimiyle birçok kez gündeme gelen Vestel, geçtiğimiz dönemlerde akıllı saatini piyasaya sürmüştü. Sürmüştü sürmesine ancak görünüşe b ... (825 characters truncated) ... u hamlesi hakkında ne düşünüyorsunuz? İstikrarlı bir şekilde üretime devam etmesi hâlinde piyasada hatırı sayılır bir oran elde edebilir miydi?\\u200b\"), (3, '30 Tem 2021', 'Piyasadan çekileceğini kendisi mi söyledi\\n\\nAkıllı saat konusuna bence gereksiz masraf yapmışlar. Çoğu şirket aynı hatayı yapıyor akıllı telefon gib ... (319 characters truncated) ... ok. Kamerasını bilmiyorum\\n\\nCasper in ismini unuttum yeni telefonu tasarım açısından hiç beğenmedim özellik olarak fiyatını hak ediyor mu tartışılır'), (4, '30 Tem 2021', 'İki yıldır piyasaya yeni ürün sunmayarak eski modellerini sattıklarından çekildi diyebiliriz.'), (5, '30 Tem 2021', 'Vestel cihazların güncelleme desteğinin olmadığı için ve donanımı fiyatına göre rezalet olduğu için piyasadan çekildi.'), (6, '15 Tem 2021', 'Arkadaşlar merhaba. Venüs V3 5570 model telefona stock rom yüklemek istiyorum fakat nasıl yapacağımı bilmiyorum. Yardımcı olacak biri var mıdır acaba ... (169 characters truncated) ... . Hangisini seçip devam etmeliyim? Ondan sonra ne yapmam gerekiyor? \\nTel komple kapalı dosyaların yedeğini aldım bu arada. (numaralar dahil herşeyi)'), (7, '15 Tem 2021', \"Genelde ROM attığım zaman boyutlarına baktığım zaman en yükseği oluyordu hep, boyutlarını yazarmısın?\\nAyriyeten indirdiğin dosyaları nereden indirdin, indirdiğin yerde kurulum varmı?\\nBu arada WinXP'mi kullanıyorsun yoksa temamı?\")  ... displaying 10 of 464 total bound parameter sets ...  (462, '2 Eyl 2018', 'Ben memnunum kişinin beklentisine göre olmalı'), (463, '2 Eyl 2018', \"Venüs Türkiye'de üretiliyor.\"))\n",
      "2021-08-16 22:00:21,288 INFO sqlalchemy.engine.Engine COMMIT\n"
     ]
    }
   ],
   "source": [
    "shiftdelete_df.to_sql('shiftdelete_list',engine, if_exists='fail')"
   ]
  },
  {
   "cell_type": "code",
   "execution_count": null,
   "id": "c059cfb3",
   "metadata": {},
   "outputs": [],
   "source": []
  }
 ],
 "metadata": {
  "kernelspec": {
   "display_name": "Python 3",
   "language": "python",
   "name": "python3"
  },
  "language_info": {
   "codemirror_mode": {
    "name": "ipython",
    "version": 3
   },
   "file_extension": ".py",
   "mimetype": "text/x-python",
   "name": "python",
   "nbconvert_exporter": "python",
   "pygments_lexer": "ipython3",
   "version": "3.8.8"
  }
 },
 "nbformat": 4,
 "nbformat_minor": 5
}
